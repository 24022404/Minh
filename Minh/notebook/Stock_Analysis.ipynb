{
 "cells": [
  {
   "cell_type": "code",
   "execution_count": null,
   "id": "862ec118",
   "metadata": {},
   "outputs": [],
   "source": [
    "from pyspark.sql import SparkSession\n",
    "from pyspark.sql.functions import *\n",
    "import json\n",
    "\n",
    "# 1. Khởi tạo Spark\n",
    "spark = SparkSession.builder.appName(\"Stock Analysis\").getOrCreate()\n",
    "\n",
    "# 2. Đọc CSV từ HDFS\n",
    "df = spark.read.csv(\"hdfs://namenode:9000/datack/*.csv\", header=True, inferSchema=True)\n",
    "df = df.withColumn(\"Company\", regexp_extract(input_file_name(), r\"([A-Z]+)_\", 1))\n",
    "df = df.withColumn(\"Year\", year(to_date(col(\"Date\"))))\n",
    "\n",
    "# 3. Phân tích 1: Giá TB theo năm\n",
    "avg_year = df.groupBy(\"Year\").agg(avg(\"Close\").alias(\"avg\")).orderBy(\"Year\").collect()\n",
    "\n",
    "# 4. Phân tích 2: Top 10 volatile\n",
    "volatile = df.groupBy(\"Company\").agg(stddev(\"Close\").alias(\"vol\")).orderBy(col(\"vol\").desc()).limit(10).collect()\n",
    "\n",
    "# 5. Phân tích 3: So sánh công ty lớn\n",
    "major = df.filter(col(\"Company\").isin([\"AAPL\",\"GOOG\",\"AMZN\",\"MSFT\"])).groupBy(\"Company\").agg(avg(\"Close\").alias(\"avg\")).collect()\n",
    "\n",
    "# 6. Export JSON\n",
    "results = {\n",
    "    \"avg_year\": [{\"year\": int(r.Year), \"avg\": float(r.avg)} for r in avg_year],\n",
    "    \"volatile\": [{\"company\": r.Company, \"vol\": float(r.vol)} for r in volatile],\n",
    "    \"major\": [{\"company\": r.Company, \"avg\": float(r.avg)} for r in major]\n",
    "}\n",
    "\n",
    "with open('/home/jovyan/work/results.json', 'w') as f:\n",
    "    json.dump(results, f)\n",
    "\n",
    "print(\"✅ Done!\")\n",
    "spark.stop()"
   ]
  }
 ],
 "metadata": {
  "language_info": {
   "name": "python"
  }
 },
 "nbformat": 4,
 "nbformat_minor": 5
}
